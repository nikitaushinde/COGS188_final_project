{
 "cells": [
  {
   "attachments": {},
   "cell_type": "markdown",
   "metadata": {},
   "source": [
    "# COGS 188 - Project Proposal"
   ]
  },
  {
   "cell_type": "markdown",
   "metadata": {},
   "source": [
    "# Names\n",
    "\n",
    "- Nikita Shinde (A17643607)\n",
    "- Dylan Lee (A16816164)\n",
    "- Emily Chang (A17941184)\n",
    "- Weihao Lin (A17398837)\n"
   ]
  },
  {
   "cell_type": "markdown",
   "metadata": {},
   "source": [
    "# <font color = 'green'>*PantryPal*</font>\n",
    " *A little AI buddy that helps you make delishous meals with whatever you have!*"
   ]
  },
  {
   "cell_type": "markdown",
   "metadata": {},
   "source": [
    "# Abstract \n",
    "This project aims to develop an AI-powered recipe generator that suggests recipes based on available ingredients, kitchen tools, and time constraints. Data will be sourced from online recipe databases and structured ingredient lists. The system will use Natural Language Processing (NLP) techniques with rule-based filtering to generate recipes that are practical, coherent, and user-friendly. Evaluation metrics we will aim to use include BLEU scores for textual coherence, user ratings for satisfaction, and perplexity to assess the models’s fluency. A hybrid approach will be adopted to ensure high-quality generation, leveraging both data-driven and rule-based methodologies.\n"
   ]
  },
  {
   "attachments": {},
   "cell_type": "markdown",
   "metadata": {},
   "source": [
    "# Background\n",
    "\n",
    "Fill in the background and discuss the kind of prior work that has gone on in this research area here. **Use inline citation** to specify which references support which statements.  You can do that through HTML footnotes (demonstrated here). I used to reccommend Markdown footnotes (google is your friend) because they are simpler but recently I have had some problems with them working for me whereas HTML ones always work so far. So use the method that works for you, but do use inline citations.\n",
    "\n",
    "Here is an example of inline citation. After government genocide in the 20th century, real birds were replaced with surveillance drones designed to look just like birds<a name=\"lorenz\"></a>[<sup>[1]</sup>](#lorenznote). Use a minimum of 3 to 5 citations, but we prefer more <a name=\"admonish\"></a>[<sup>[2]</sup>](#admonishnote). You need enough citations to fully explain and back up important facts. \n",
    "\n",
    "Remeber you are trying to explain why someone would want to answer your question or why your hypothesis is in the form that you've stated. \n",
    "\n",
    "\n",
    "Automated recipe generation has been studied in the fields of Natural Language Processing (NLP) and recommendation systems. Prior work includes structured dataset approaches, such as RecipeNLG, which provides a large amount of recipes for semi-structured text generation * <a name=\"bien\"></a>[<sup>[1]</sup>](#biennote)\n",
    ". Deep learning-based text generation has shown promise in generating coherent recipe output and contextually appropriate recipes [2]. For example, Kiddon et al. (2016) demonstrated the effectiveness of neural checklist models in generating globally coherent text, which is highly relevant for recipe generation tasks.\n",
    "\n",
    "In addition to data-driven approaches, rule-based systems have been widely used to enforce practical constraints in recipe generation. For instance, Teng et al. (2012) explored rule-based methods for recipe recommendation, focusing on ingredient compatibility and dietary restrictions [3]. These systems are particularly useful for filtering unrealistic combinations of ingredients and ensuring that generated recipes follow user constraints, such as dietary preferences or time limitations. \n",
    "\n",
    "Hybrid approaches, which combine data-driven models with rule-based systems, have also been applied specifically to recipe generation. For example, Chow et al. (2023) proposed a hybrid system for recipe recommendation that integrates collaborative filtering (a data-driven model) with rule-based filtering to improve recommendation quality and adaptability to user preferences [4]. Hybrid systems highlight the increasing need to integrate dietary preferences, nutritional needs, and ingredient compatibility into food recommender systems, making them more personalized and practical for users. \n",
    "The motivation for this project comes from the growing interest in personalized meal planning. By utilizing machine learning, this project aims to create a system that not only generates recipes but also adapts to user constraints, like dietary restrictions and time limitations. The project builds on prior research in recommendation systems, while addressing the practical concerns of real-world recipe generation. \n"
   ]
  },
  {
   "cell_type": "markdown",
   "metadata": {},
   "source": [
    "# Problem Statement\n",
    "\n",
    "Clearly describe the problem that you are solving. Avoid ambiguous words. The problem described should be well defined and should have at least one ML-relevant potential solution. Additionally, describe the problem thoroughly such that it is clear that the problem is quantifiable (the problem can be expressed in mathematical or logical terms), measurable (the problem can be measured by some metric and clearly observed), and replicable (the problem can be reproduced and occurs more than once)."
   ]
  },
  {
   "cell_type": "markdown",
   "metadata": {},
   "source": [
    "# Data\n",
    "\n",
    "You should have a strong idea of what dataset(s) will be used to accomplish this project. \n",
    "\n",
    "If you know what (some) of the data you will use, please give the following information for each dataset:\n",
    "- link/reference to obtain it\n",
    "- description of the size of the dataset (# of variables, # of observations)\n",
    "- what an observation consists of\n",
    "- what some critical variables are, how they are represented\n",
    "- any special handling, transformations, cleaning, etc will be needed\n",
    "\n",
    "If you don't yet know what your dataset(s) will be, you should describe what you desire in terms of the above bullets."
   ]
  },
  {
   "cell_type": "markdown",
   "metadata": {},
   "source": [
    "# Proposed Solution\n",
    "\n",
    "In this section, clearly describe a solution to the problem. The solution should be applicable to the project domain and appropriate for the dataset(s) or input(s) given. Provide enough detail (e.g., algorithmic description and/or theoretical properties) to convince us that your solution is applicable. Why might your solution work? Make sure to describe how the solution will be tested.  \n",
    "\n",
    "If you know details already, describe how (e.g., library used, function calls) you plan to implement the solution in a way that is reproducible.\n",
    "\n",
    "If it is appropriate to the problem statement, describe a benchmark model<a name=\"sota\"></a>[<sup>[3]</sup>](#sotanote) against which your solution will be compared. "
   ]
  },
  {
   "cell_type": "markdown",
   "metadata": {},
   "source": [
    "# Evaluation Metrics\n",
    "\n",
    "Propose at least one evaluation metric that can be used to quantify the performance of both the benchmark model and the solution model. The evaluation metric(s) you propose should be appropriate given the context of the data, the problem statement, and the intended solution. Describe how the evaluation metric(s) are derived and provide an example of their mathematical representations (if applicable). Complex evaluation metrics should be clearly defined and quantifiable (can be expressed in mathematical or logical terms)."
   ]
  },
  {
   "cell_type": "markdown",
   "metadata": {},
   "source": [
    "# Ethics & Privacy"
   ]
  },
  {
   "cell_type": "markdown",
   "metadata": {},
   "source": [
    "If your project has obvious potential concerns with ethics or data privacy discuss that here.  Almost every ML project put into production can have ethical implications if you use your imagination. Use your imagination. Get creative!\n",
    "\n",
    "Even if you can't come up with an obvious ethical concern that should be addressed, you should know that a large number of ML projects that go into producation have unintended consequences and ethical problems once in production. How will your team address these issues?\n",
    "\n",
    "Consider a tool to help you address the potential issues such as https://deon.drivendata.org"
   ]
  },
  {
   "cell_type": "markdown",
   "metadata": {},
   "source": [
    "______"
   ]
  },
  {
   "cell_type": "markdown",
   "metadata": {},
   "source": [
    "# Team Expectations "
   ]
  },
  {
   "cell_type": "markdown",
   "metadata": {},
   "source": [
    "Put things here that cement how you will interact/communicate as a team, how you will handle conflict and difficulty, how you will handle making decisions and setting goals/schedule, how much work you expect from each other, how you will handle deadlines, etc...\n",
    "* *Team Expectation 1*\n",
    "* *Team Expectation 2*\n",
    "* *Team Expecation 3*\n",
    "* ..."
   ]
  },
  {
   "cell_type": "markdown",
   "metadata": {},
   "source": [
    "# Project Timeline Proposal"
   ]
  },
  {
   "cell_type": "markdown",
   "metadata": {},
   "source": [
    "| **Date**       | **Milestone**                          | **Tasks to Complete**  | **Assigned To (if applicable)** |\n",
    "|----------|-----------------------------------|--------------------|----------------------------|\n",
    "| Feb 12       | Project Kickoff                   | Finalize project topic, research datasets, and outline methodology. | All team members |\n",
    "| Feb 14       | Project Proposal                  | Finish up project proposal and submit. | All team members |\n",
    "| Feb 14        | Data Collection & Preprocessing   | Finalize and set up API access (if needed), download datasets, clean and preprocess data. | All team members |\n",
    "| Feb 18         | Exploratory Data Analysis (EDA)   | Generate summary statistics, visualize key patterns in data, and finalize feature selection. | All team members |\n",
    "| Feb 21       | Model Selection & Baseline Model  | Implement a simple baseline model (e.g., content-based filtering, logistic regression) for comparison. | All team members |\n",
    "| Feb 25       | Implement Recommendation Algorithm | Develop the main recommendation model (e.g., collaborative filtering, deep learning). | All team members |\n",
    "| Feb 29        | Hyperparameter Tuning & Optimization | Test different hyperparameters and improve model performance. | All team members |\n",
    "| March 4       | Model Evaluation                  | Compare results with baseline model, test on validation set, refine metrics. | All team members |\n",
    "| March 8        | User Testing & Feedback Collection | Deploy prototype, collect user feedback (if applicable, probably not). | All team members |\n",
    "| March 11       | Report Writing & Documentation    | Write project report (abstract, methodology, results, discussion). | All team members |\n",
    "| March 14       | Final Revisions & Presentation Prep | Finalize code, polish report, and prepare slides (if needed).       | All team members |\n",
    "| March 17 | Submission                        | Submit the final project before the deadline of 19 March for a two-day buffer. | All team members |\n"
   ]
  },
  {
   "cell_type": "markdown",
   "metadata": {},
   "source": [
    "# Footnotes\n",
    "<a name=\"lorenznote\"></a>1.[^](#lorenz): Lorenz, T. (9 Dec 2021) Birds Aren’t Real, or Are They? Inside a Gen Z Conspiracy Theory. *The New York Times*. https://www.nytimes.com/2021/12/09/technology/birds-arent-real-gen-z-misinformation.html<br> \n",
    "<a name=\"admonishnote\"></a>2.[^](#admonish): Also refs should be important to the background, not some randomly chosen vaguely related stuff. Include a web link if possible in refs as above.<br>\n",
    "<a name=\"sotanote\"></a>3.[^](#sota): Perhaps the current state of the art solution such as you see on [Papers with code](https://paperswithcode.com/sota). Or maybe not SOTA, but rather a standard textbook/Kaggle solution to this kind of problem\n"
   ]
  },
  {
   "cell_type": "markdown",
   "metadata": {},
   "source": [
    "<a name=\"biennote\"></a>^: Bień et al. (2020). RecipeNLG: A Cooking Recipes Dataset for Semi-Structured Text Generation. INLG 2020. https://aclanthology.org/2020.inlg-1.4/<br>\n",
    "<a name=\"kiddonnote\"></a>^: Kiddon, C., et al. (2016). Globally Coherent Text Generation with Neural Checklist Models. NAACL. https://aclanthology.org/D16-1032.pdf<br>\n",
    "<a name=\"tengnote\"></a>^: Teng, C.-Y., et al. (2012). Recipe Recommendation Using Ingredient Compatibility. https://www.researchgate.net/publication/51958810_Recipe_recommendation_using_ingredient_networks<br>\n",
    "<a name=\"chownote\"></a>^: Chow, Y.-Y., et al. (2023). Food Recommender System: A Review on Techniques, Datasets, and Evaluation Metrics. https://www.aasmr.org/jsms/Vol13/No.5/Vol.13%20No.5.10.pdf<br>\n",
    "<a name=\"mealdbnote\"></a>^: TheMealDB. https://www.themealdb.com/<br>\n",
    "<a name=\"kagglerecipenote\"></a>^: Kaggle: Recipe Ingredients Dataset. https://www.kaggle.com/datasets/kaggle/recipe-ingredients-dataset<br>\n",
    "<a name=\"kagglefoodnote\"></a>^: Kaggle: Food.com Recipes and User Interactions. https://www.kaggle.com/datasets/shuyangli94/food-com-recipes-and-user-interactions<br>\n",
    "<a name=\"auntiesrecipesnote\"></a>^: GitHub: Auntie's Recipes. https://github.com/user24/auntiesrecipes<br>\n",
    "<a name=\"eightportionsnote\"></a>^: Eight Portions Recipe Dataset. https://eightportions.com/datasets/Recipes/#fn:1 (GitHub Repository: https://github.com/rtlee9/recipe-box)<br>"
   ]
  },
  {
   "cell_type": "markdown",
   "metadata": {},
   "source": []
  }
 ],
 "metadata": {
  "kernelspec": {
   "display_name": "Python 3",
   "language": "python",
   "name": "python3"
  },
  "language_info": {
   "codemirror_mode": {
    "name": "ipython",
    "version": 3
   },
   "file_extension": ".py",
   "mimetype": "text/x-python",
   "name": "python",
   "nbconvert_exporter": "python",
   "pygments_lexer": "ipython3",
   "version": "3.7.11 (default, Jul 27 2021, 07:03:16) \n[Clang 10.0.0 ]"
  },
  "vscode": {
   "interpreter": {
    "hash": "40d3a090f54c6569ab1632332b64b2c03c39dcf918b08424e98f38b5ae0af88f"
   }
  }
 },
 "nbformat": 4,
 "nbformat_minor": 2
}
