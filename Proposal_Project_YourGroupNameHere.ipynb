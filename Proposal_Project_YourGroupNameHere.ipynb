{
 "cells": [
  {
   "attachments": {},
   "cell_type": "markdown",
   "metadata": {},
   "source": [
    "# COGS 188 - Project Proposal"
   ]
  },
  {
   "cell_type": "markdown",
   "metadata": {},
   "source": [
    "# Names\n",
    "\n",
    "- Nikita Shinde (A17643607)\n",
    "- Dylan Lee (A16816164)\n",
    "- Emily Chang (A17941184)\n",
    "- Weihao Lin (A17398837)\n"
   ]
  },
  {
   "cell_type": "markdown",
   "metadata": {},
   "source": [
    "# <font color = 'green'>*PantryPal*</font>\n",
    " *A little AI buddy that helps you make delicious meals with whatever you have!*"
   ]
  },
  {
   "cell_type": "markdown",
   "metadata": {},
   "source": [
    "# Abstract \n",
    "This project aims to develop an AI-powered recipe generator that suggests recipes based on available ingredients, kitchen tools, and time constraints. Data will be sourced from online recipe databases and structured ingredient lists. The system will use Natural Language Processing (NLP) techniques with rule-based filtering to generate recipes that are practical, coherent, and user-friendly. Evaluation metrics we will aim to use include BLEU scores for textual coherence, user ratings for satisfaction, and perplexity to assess the models’s fluency. A hybrid approach will be adopted to ensure high-quality generation, leveraging both data-driven and rule-based methodologies.\n"
   ]
  },
  {
   "attachments": {},
   "cell_type": "markdown",
   "metadata": {},
   "source": [
    "# Background\n",
    "\n",
    "Fill in the background and discuss the kind of prior work that has gone on in this research area here. **Use inline citation** to specify which references support which statements.  You can do that through HTML footnotes (demonstrated here). I used to reccommend Markdown footnotes (google is your friend) because they are simpler but recently I have had some problems with them working for me whereas HTML ones always work so far. So use the method that works for you, but do use inline citations.\n",
    "\n",
    "Here is an example of inline citation. After government genocide in the 20th century, real birds were replaced with surveillance drones designed to look just like birds<a name=\"lorenz\"></a>[<sup>[1]</sup>](#lorenznote). Use a minimum of 3 to 5 citations, but we prefer more <a name=\"admonish\"></a>[<sup>[2]</sup>](#admonishnote). You need enough citations to fully explain and back up important facts. \n",
    "\n",
    "Remeber you are trying to explain why someone would want to answer your question or why your hypothesis is in the form that you've stated. \n",
    "\n",
    "\n",
    "Automated recipe generation has been studied in the fields of Natural Language Processing (NLP) and recommendation systems. Prior work includes structured dataset approaches, such as RecipeNLG, which provides a large amount of recipes for semi-structured text generation <a name=\"bien\"></a>[<sup>[1]</sup>](#biennote)\n",
    ". Deep learning-based text generation has shown promise in generating coherent recipe output and contextually appropriate recipes <a name=\"kiddon\"></a>[<sup>[2]</sup>](#kiddonnote). For example, Kiddon et al. (2016) demonstrated the effectiveness of neural checklist models in generating globally coherent text, which is highly relevant for recipe generation tasks.\n",
    "\n",
    "In addition to data-driven approaches, rule-based systems have been widely used to enforce practical constraints in recipe generation. For instance, Teng et al. (2012) explored rule-based methods for recipe recommendation, focusing on ingredient compatibility and dietary restrictions <a name=\"teng\"></a>[<sup>[3]</sup>](#tengnote). These systems are particularly useful for filtering unrealistic combinations of ingredients and ensuring that generated recipes follow user constraints, such as dietary preferences or time limitations. \n",
    "\n",
    "Hybrid approaches, which combine data-driven models with rule-based systems, have also been applied specifically to recipe generation. For example, Chow et al. (2023) proposed a hybrid system for recipe recommendation that integrates collaborative filtering (a data-driven model) with rule-based filtering to improve recommendation quality and adaptability to user preferences <a name=\"chow\"></a>[<sup>[4]</sup>](#chownote). Hybrid systems highlight the increasing need to integrate dietary preferences, nutritional needs, and ingredient compatibility into food recommender systems, making them more personalized and practical for users. \n",
    "The motivation for this project comes from the growing interest in personalized meal planning. By utilizing machine learning, this project aims to create a system that not only generates recipes but also adapts to user constraints, like dietary restrictions and time limitations. The project builds on prior research in recommendation systems, while addressing the practical concerns of real-world recipe generation. \n"
   ]
  },
  {
   "cell_type": "markdown",
   "metadata": {},
   "source": [
    "# Problem Statement\n",
    "\n",
    "The challenge is to generate contextually relevant and coherent recipes given user constraints. The problem is quantifiable through recipe coherence metrics like BLEU scores, and user validation can be measured through ratings. The project’s performance can be assessed through perplexity, to evaluate the model’s confidence in generating coherent text, and user feedback. The problem can be reproduced using publicly available recipe datasets and standardized evaluation metrics."
   ]
  },
  {
   "cell_type": "markdown",
   "metadata": {},
   "source": [
    "# Data\n",
    "\n",
    "1. TheMealDB API <a name=\"mealdb\"></a>[<sup>[5]</sup>](#mealdbnote)\n",
    "    - Size: Thousands of recipes\n",
    "    - Key Features: API-based structured ingredient list and instructions\n",
    "    - Possible Usage: Core dataset for the training and evaluation\n",
    "2. Recipe Ingredients Dataset <a name=\"kagglerecipe\"></a>[<sup>[6]</sup>](#kagglerecipenote)\n",
    "    - Size: Large-scale dataset with diverse recipes \n",
    "    - Key Features: Ingredient-centric data with metadata\n",
    "    - Possible Usage: ingredient standardization and compatibility analysis\n",
    "3. Food.com Recipes and Interactions <a name=\"kagglefood\"></a>[<sup>[7]</sup>](#kagglefoodnote)\n",
    "    - Size: 180K+ recipes with 700K+ user interactions\n",
    "    - Key Features: User reviews, ratings, and feedback\n",
    "    - Possible Usage: Model evaluation and personalization anaylsis\n",
    "4. Auntie’s Recipes <a name=\"auntiesrecipes\"></a>[<sup>[8]</sup>](#auntiesrecipesnote)\n",
    "    - Size: Community-drove collection of recipes\n",
    "    - Key Features: Unique recipes \n",
    "    - Possible Usage: Supplementary dataset to enhance the diversity \n",
    "5. Recipe Box <a name=\"eightportions\"></a>[<sup>[9]</sup>](#eightportionsnote)\n",
    "    - Size: Curated set of recipes with structures metadata\n",
    "    - Key Features: Open-Source, user-contributed recipes with a variety of cuisines\n",
    "    - Possible Ussage: Additional data for increasing recipe variety\n"
   ]
  },
  {
   "cell_type": "markdown",
   "metadata": {},
   "source": [
    "# Proposed Solution\n",
    "A transformer-based text generation model (e.g., GPT-3 fine-tuned on recipe data) will be used to generate structured and coherent recipes. NLP preprocessing will leverage spaCy and NLTK to clean and standardize ingredient names and instructions. Rule-based logic will filter out unrealistic ingredient combinations and ensure adherence to dietary restrictions. An attention-based approach may be incorporated to enhance the structuring of generated recipes. The final pipeline will take user inputs on available ingredients, kitchen tools, and time constraints to produce feasible and contextually relevant recipes.\n"
   ]
  },
  {
   "cell_type": "markdown",
   "metadata": {},
   "source": [
    "# Evaluation Metrics\n",
    "\n",
    "- **BLEU Score**: Measures text coherence compared to the reference recipes\n",
    "- **Perplexity**: Assesses language model fluency\n",
    "- **User Ratings**: Gathers real-world feedback on recipe usability \n",
    "\n",
    "To quantify the performance of both the benchmark model and the proposed solution, we will use a combination of BLEU score, perplexity, and user ratings. The BLEU score measures the similarity between the generated recipes and human-written recipes by comparing sequences of words. For instance, a BLEU score close to 1 indicates high similarity to human-generated recipes, providing a measure of recipe coherence that is quantitative. Perplexity determines the model’s confidence in generating coherent text, with lower values closer to 0 indicating better performance. Furthermore, user ratings will be collected to assess the practicality of the generated recipes giving us real-world feedback on the system. These metrics are mathematically quantifiable and work together to provide a comprehensive evaluation on the system’s performance. \n"
   ]
  },
  {
   "cell_type": "markdown",
   "metadata": {},
   "source": [
    "# Ethics & Privacy"
   ]
  },
  {
   "cell_type": "markdown",
   "metadata": {},
   "source": [
    "The project has some ethical concerns that must be addressed. The system must account for dietary restrictions and allergens to avoid harmful recommendations, which could cause serious health implications for users. The model will include filtering options for dietary preferences to combat this. Additionally, the collection and use of user-provided data, could potentially reveal sensitive information about individuals, including health conditions. To mitigate privacy risks, all user data will be anonymized and stored securely, with consent for data usage. \n"
   ]
  },
  {
   "cell_type": "markdown",
   "metadata": {},
   "source": [
    "______"
   ]
  },
  {
   "cell_type": "markdown",
   "metadata": {},
   "source": [
    "# Team Expectations "
   ]
  },
  {
   "cell_type": "markdown",
   "metadata": {},
   "source": [
    "* Communicate if we have a schedule or general conflict\n",
    "* Dividing tasks between group members fairly \n",
    "    * speak up if you feel like things aren't getting done the way they are supposed to\n",
    "* Give each other honest feedback\n",
    "* Reply to message when you can (try to respond at least within a few hours)"
   ]
  },
  {
   "cell_type": "markdown",
   "metadata": {},
   "source": [
    "# Project Timeline Proposal"
   ]
  },
  {
   "cell_type": "markdown",
   "metadata": {},
   "source": [
    "| **Date**       | **Milestone**                          | **Tasks to Complete**  | **Assigned To (if applicable)** |\n",
    "|----------|-----------------------------------|--------------------|----------------------------|\n",
    "| Feb 12       | Project Kickoff                   | Finalize project topic, research datasets, and outline methodology. | All team members |\n",
    "| Feb 14       | Project Proposal                  | Finish up project proposal and submit. | All team members |\n",
    "| Feb 14        | Data Collection & Preprocessing   | Finalize and set up API access (if needed), download datasets, clean and preprocess data. | All team members |\n",
    "| Feb 18         | Exploratory Data Analysis (EDA)   | Generate summary statistics, visualize key patterns in data, and finalize feature selection. | All team members |\n",
    "| Feb 21       | Model Selection & Baseline Model  | Implement a simple baseline model (e.g., content-based filtering, logistic regression) for comparison. | All team members |\n",
    "| Feb 25       | Implement Recommendation Algorithm | Develop the main recommendation model (e.g., collaborative filtering, deep learning). | All team members |\n",
    "| Feb 29        | Hyperparameter Tuning & Optimization | Test different hyperparameters and improve model performance. | All team members |\n",
    "| March 4       | Model Evaluation                  | Compare results with baseline model, test on validation set, refine metrics. | All team members |\n",
    "| March 8        | User Testing & Feedback Collection | Deploy prototype, collect user feedback (if applicable, probably not). | All team members |\n",
    "| March 11       | Report Writing & Documentation    | Write project report (abstract, methodology, results, discussion). | All team members |\n",
    "| March 14       | Final Revisions & Presentation Prep | Finalize code, polish report, and prepare slides (if needed).       | All team members |\n",
    "| March 17 | Submission                        | Submit the final project before the deadline of 19 March for a two-day buffer. | All team members |\n"
   ]
  },
  {
   "cell_type": "markdown",
   "metadata": {},
   "source": [
    "# Footnotes\n",
    "<a name=\"biennote\"></a>1.[^](#biennote): Bień et al. (2020). RecipeNLG: A Cooking Recipes Dataset for Semi-Structured Text Generation. INLG 2020. https://aclanthology.org/2020.inlg-1.4/<br>\n",
    "<a name=\"kiddonnote\"></a>2.[^](#kiddonnote): Kiddon, C., et al. (2016). Globally Coherent Text Generation with Neural Checklist Models. NAACL. https://aclanthology.org/D16-1032.pdf<br>\n",
    "<a name=\"tengnote\"></a>3.[^](#tengnote): Teng, C.-Y., et al. (2012). Recipe Recommendation Using Ingredient Compatibility. https://www.researchgate.net/publication/51958810_Recipe_recommendation_using_ingredient_networks<br>\n",
    "<a name=\"chownote\"></a>4.[^](#chownote): Chow, Y.-Y., et al. (2023). Food Recommender System: A Review on Techniques, Datasets, and Evaluation Metrics. https://www.aasmr.org/jsms/Vol13/No.5/Vol.13%20No.5.10.pdf<br>\n",
    "<a name=\"mealdbnote\"></a>5.[^](#mealdbnote): TheMealDB. https://www.themealdb.com/<br>\n",
    "<a name=\"kagglerecipenote\"></a>6.[^](#kagglerecipenote): Kaggle: Recipe Ingredients Dataset. https://www.kaggle.com/datasets/kaggle/recipe-ingredients-dataset<br>\n",
    "<a name=\"kagglefoodnote\"></a>7.[^](#kagglefoodnote): Kaggle: Food.com Recipes and User Interactions. https://www.kaggle.com/datasets/shuyangli94/food-com-recipes-and-user-interactions<br>\n",
    "<a name=\"auntiesrecipesnote\"></a>8.[^](#auntiesrecipesnote): GitHub: Auntie's Recipes. https://github.com/user24/auntiesrecipes<br>\n",
    "<a name=\"eightportionsnote\"></a>9.[^](#eightportionsnote): Eight Portions Recipe Dataset. https://eightportions.com/datasets/Recipes/#fn:1 (GitHub Repository: https://github.com/rtlee9/recipe-box)<br>"
   ]
  },
  {
   "cell_type": "markdown",
   "metadata": {},
   "source": []
  }
 ],
 "metadata": {
  "kernelspec": {
   "display_name": "Python 3",
   "language": "python",
   "name": "python3"
  },
  "language_info": {
   "codemirror_mode": {
    "name": "ipython",
    "version": 3
   },
   "file_extension": ".py",
   "mimetype": "text/x-python",
   "name": "python",
   "nbconvert_exporter": "python",
   "pygments_lexer": "ipython3",
   "version": "3.7.11 (default, Jul 27 2021, 07:03:16) \n[Clang 10.0.0 ]"
  },
  "vscode": {
   "interpreter": {
    "hash": "40d3a090f54c6569ab1632332b64b2c03c39dcf918b08424e98f38b5ae0af88f"
   }
  }
 },
 "nbformat": 4,
 "nbformat_minor": 2
}
